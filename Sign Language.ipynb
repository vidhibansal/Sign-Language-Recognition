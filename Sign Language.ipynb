{
 "cells": [
  {
   "cell_type": "code",
   "execution_count": 1,
   "metadata": {},
   "outputs": [
    {
     "name": "stderr",
     "output_type": "stream",
     "text": [
      "Using TensorFlow backend.\n"
     ]
    }
   ],
   "source": [
    "import pandas as pd\n",
    "import cv2\n",
    "import numpy as np\n",
    "import matplotlib.pyplot as plt\n",
    "import os\n",
    "import tensorflow as tf\n",
    "import keras"
   ]
  },
  {
   "cell_type": "code",
   "execution_count": 2,
   "metadata": {},
   "outputs": [],
   "source": [
    "img = np.load(\"X.npy\")"
   ]
  },
  {
   "cell_type": "code",
   "execution_count": 27,
   "metadata": {},
   "outputs": [
    {
     "data": {
      "text/plain": [
       "array([[0.46666667, 0.4745098 , 0.47843137, ..., 0.5176471 , 0.5137255 ,\n",
       "        0.5019608 ],\n",
       "       [0.49803922, 0.4862745 , 0.4862745 , ..., 0.5254902 , 0.5176471 ,\n",
       "        0.50980395],\n",
       "       [0.54509807, 0.49411765, 0.49019608, ..., 0.5294118 , 0.5254902 ,\n",
       "        0.5137255 ],\n",
       "       ...,\n",
       "       [0.5019608 , 0.5137255 , 0.5176471 , ..., 0.5529412 , 0.54509807,\n",
       "        0.53333336],\n",
       "       [0.49803922, 0.5058824 , 0.5137255 , ..., 0.54509807, 0.53333336,\n",
       "        0.52156866],\n",
       "       [0.49019608, 0.49803922, 0.5019608 , ..., 0.5294118 , 0.52156866,\n",
       "        0.50980395]], dtype=float32)"
      ]
     },
     "execution_count": 27,
     "metadata": {},
     "output_type": "execute_result"
    }
   ],
   "source": [
    "type(img[0])\n",
    "img[0]"
   ]
  },
  {
   "cell_type": "markdown",
   "metadata": {},
   "source": [
    "This shows that we have 2062 samples in our dataset and each image is 64 x 64 pixels"
   ]
  },
  {
   "cell_type": "code",
   "execution_count": 19,
   "metadata": {},
   "outputs": [
    {
     "data": {
      "image/png": "[encoded data removed]",
      "text/plain": [
       "<Figure size 432x288 with 1 Axes>"
      ]
     },
     "metadata": {
      "needs_background": "light"
     },
     "output_type": "display_data"
    }
   ],
   "source": [
    "for i in range(2062):\n",
    "    plt.imshow(img[i],cmap='gray')"
   ]
  },
  {
   "cell_type": "code",
   "execution_count": 20,
   "metadata": {},
   "outputs": [],
   "source": [
    "labels = np.load(\"Y.npy\")"
   ]
  },
  {
   "cell_type": "code",
   "execution_count": 23,
   "metadata": {},
   "outputs": [
    {
     "data": {
      "text/plain": [
       "2062"
      ]
     },
     "execution_count": 23,
     "metadata": {},
     "output_type": "execute_result"
    }
   ],
   "source": [
    "len(labels)"
   ]
  },
  {
   "cell_type": "code",
   "execution_count": 35,
   "metadata": {},
   "outputs": [],
   "source": [
    "img1= img.reshape(img.shape[0], 64,64,1)"
   ]
  },
  {
   "cell_type": "code",
   "execution_count": 29,
   "metadata": {},
   "outputs": [
    {
     "data": {
      "text/plain": [
       "(2062, 64, 64, 1)"
      ]
     },
     "execution_count": 29,
     "metadata": {},
     "output_type": "execute_result"
    }
   ],
   "source": [
    "img1.shape\n"
   ]
  },
  {
   "cell_type": "code",
   "execution_count": 32,
   "metadata": {},
   "outputs": [],
   "source": [
    "from sklearn.model_selection import train_test_split\n",
    "train_data, test_data, train_tar, test_tar = train_test_split(img1,labels,test_size=0.2,shuffle=True)"
   ]
  },
  {
   "cell_type": "markdown",
   "metadata": {},
   "source": [
    "### CNN "
   ]
  },
  {
   "cell_type": "code",
   "execution_count": 40,
   "metadata": {},
   "outputs": [],
   "source": [
    "from keras.models import Sequential\n",
    "from keras.layers import Dense\n",
    "from keras.layers import Dropout\n",
    "from keras.layers import Flatten\n",
    "from keras.layers.convolutional import Conv2D\n",
    "from keras.layers.convolutional import MaxPooling2D\n",
    "from keras.utils import np_utils\n",
    "\n",
    "num_classes = labels.shape[1]\n",
    "def baseline_model():\n",
    "    # create model\n",
    "    model = Sequential()\n",
    "    model.add(Conv2D(32, (5, 5), input_shape=(64,64,1), activation='relu'))\n",
    "    model.add(MaxPooling2D(pool_size=(2, 2)))\n",
    "    model.add(Dropout(0.2))\n",
    "    model.add(Flatten())\n",
    "    model.add(Dense(128, activation='relu'))\n",
    "    model.add(Dense(num_classes, activation='softmax'))\n",
    "\t# Compile model\n",
    "    model.compile(loss='categorical_crossentropy', optimizer='adam', metrics=['accuracy'])\n",
    "    return model"
   ]
  },
  {
   "cell_type": "code",
   "execution_count": 41,
   "metadata": {},
   "outputs": [
    {
     "name": "stdout",
     "output_type": "stream",
     "text": [
      "Train on 1649 samples, validate on 413 samples\n",
      "Epoch 1/10\n",
      " - 5s - loss: 2.6326 - acc: 0.1073 - val_loss: 2.2892 - val_acc: 0.1041\n",
      "Epoch 2/10\n",
      " - 5s - loss: 2.2615 - acc: 0.1844 - val_loss: 2.2174 - val_acc: 0.2978\n",
      "Epoch 3/10\n",
      " - 5s - loss: 2.1656 - acc: 0.3984 - val_loss: 2.1183 - val_acc: 0.3971\n",
      "Epoch 4/10\n",
      " - 4s - loss: 2.0588 - acc: 0.4203 - val_loss: 1.9969 - val_acc: 0.4722\n",
      "Epoch 5/10\n",
      " - 5s - loss: 1.9076 - acc: 0.5203 - val_loss: 1.8443 - val_acc: 0.4891\n",
      "Epoch 6/10\n",
      " - 5s - loss: 1.7338 - acc: 0.5494 - val_loss: 1.6693 - val_acc: 0.5617\n",
      "Epoch 7/10\n",
      " - 5s - loss: 1.5468 - acc: 0.6204 - val_loss: 1.4920 - val_acc: 0.6077\n",
      "Epoch 8/10\n",
      " - 5s - loss: 1.3486 - acc: 0.6495 - val_loss: 1.3093 - val_acc: 0.6174\n",
      "Epoch 9/10\n",
      " - 5s - loss: 1.1675 - acc: 0.6719 - val_loss: 1.1346 - val_acc: 0.7046\n",
      "Epoch 10/10\n",
      " - 5s - loss: 1.0216 - acc: 0.7035 - val_loss: 1.0703 - val_acc: 0.6828\n",
      "CNN Error: 31.72%\n"
     ]
    }
   ],
   "source": [
    "\n",
    "# build the model\n",
    "model = baseline_model()\n",
    "# Fit the model\n",
    "model.fit(train_data, train_tar, validation_data=(test_data, test_tar), epochs=10, batch_size=200, verbose=2)\n",
    "# Final evaluation of the model\n",
    "scores = model.evaluate(test_data,test_tar, verbose=0)\n",
    "print(\"CNN Error: %.2f%%\" % (100-scores[1]*100))"
   ]
  },
  {
   "cell_type": "code",
   "execution_count": 42,
   "metadata": {},
   "outputs": [],
   "source": [
    "def larger_model():\n",
    "\t# create model\n",
    "    model = Sequential()\n",
    "    model.add(Conv2D(30, (5, 5), input_shape=(64,64,1), activation='relu'))\n",
    "    model.add(MaxPooling2D(pool_size=(2, 2)))\n",
    "    model.add(Conv2D(15, (3, 3), activation='relu'))\n",
    "    model.add(MaxPooling2D(pool_size=(2, 2)))\n",
    "    model.add(Dropout(0.2))\n",
    "    model.add(Flatten())\n",
    "    model.add(Dense(128, activation='relu'))\n",
    "    model.add(Dense(50, activation='relu'))\n",
    "    model.add(Dense(num_classes, activation='softmax'))\n",
    "\t# Compile model\n",
    "    model.compile(loss='categorical_crossentropy', optimizer='adam', metrics=['accuracy'])\n",
    "    return model"
   ]
  },
  {
   "cell_type": "code",
   "execution_count": 43,
   "metadata": {},
   "outputs": [
    {
     "name": "stdout",
     "output_type": "stream",
     "text": [
      "Train on 1649 samples, validate on 413 samples\n",
      "Epoch 1/10\n",
      "1649/1649 [==============================] - 6s 4ms/step - loss: 2.3010 - acc: 0.1346 - val_loss: 2.2664 - val_acc: 0.2615\n",
      "Epoch 2/10\n",
      "1649/1649 [==============================] - 5s 3ms/step - loss: 2.2042 - acc: 0.2959 - val_loss: 2.0852 - val_acc: 0.3705\n",
      "Epoch 3/10\n",
      "1649/1649 [==============================] - 6s 3ms/step - loss: 1.9128 - acc: 0.4257 - val_loss: 1.6352 - val_acc: 0.5763\n",
      "Epoch 4/10\n",
      "1649/1649 [==============================] - 5s 3ms/step - loss: 1.4344 - acc: 0.5731 - val_loss: 1.1594 - val_acc: 0.6538\n",
      "Epoch 5/10\n",
      "1649/1649 [==============================] - 6s 3ms/step - loss: 1.0416 - acc: 0.6798 - val_loss: 0.9357 - val_acc: 0.6925\n",
      "Epoch 6/10\n",
      "1649/1649 [==============================] - 6s 3ms/step - loss: 0.8324 - acc: 0.7271 - val_loss: 0.7918 - val_acc: 0.7361\n",
      "Epoch 7/10\n",
      "1649/1649 [==============================] - 6s 3ms/step - loss: 0.6918 - acc: 0.7647 - val_loss: 0.8014 - val_acc: 0.7191\n",
      "Epoch 8/10\n",
      "1649/1649 [==============================] - 6s 3ms/step - loss: 0.6437 - acc: 0.7902 - val_loss: 0.6177 - val_acc: 0.8087\n",
      "Epoch 9/10\n",
      "1649/1649 [==============================] - 5s 3ms/step - loss: 0.5228 - acc: 0.8338 - val_loss: 0.5902 - val_acc: 0.8160\n",
      "Epoch 10/10\n",
      "1649/1649 [==============================] - 5s 3ms/step - loss: 0.4717 - acc: 0.8581 - val_loss: 0.5596 - val_acc: 0.8257\n",
      "Large CNN Error: 17.43%\n"
     ]
    }
   ],
   "source": [
    "model = larger_model()\n",
    "# Fit the model\n",
    "model.fit(train_data, train_tar, validation_data=(test_data, test_tar), epochs=10, batch_size=200)\n",
    "# Final evaluation of the model\n",
    "scores = model.evaluate(test_data, test_tar, verbose=0)\n",
    "print(\"Large CNN Error: %.2f%%\" % (100-scores[1]*100))"
   ]
  },
  {
   "cell_type": "code",
   "execution_count": null,
   "metadata": {},
   "outputs": [],
   "source": []
  }
 ],
 "metadata": {
  "kernelspec": {
   "display_name": "Python 3",
   "language": "python",
   "name": "python3"
  },
  "language_info": {
   "codemirror_mode": {
    "name": "ipython",
    "version": 3
   },
   "file_extension": ".py",
   "mimetype": "text/x-python",
   "name": "python",
   "nbconvert_exporter": "python",
   "pygments_lexer": "ipython3",
   "version": "3.6.8"
  }
 },
 "nbformat": 4,
 "nbformat_minor": 2
}
